{
  "nbformat": 4,
  "nbformat_minor": 0,
  "metadata": {
    "colab": {
      "provenance": [],
      "gpuType": "T4"
    },
    "kernelspec": {
      "name": "python3",
      "display_name": "Python 3"
    },
    "accelerator": "GPU",
    "widgets": {
      "application/vnd.jupyter.widget-state+json": {
        "4ae6862f75ba4642ba61db3db2e23033": {
          "model_module": "@jupyter-widgets/controls",
          "model_name": "HBoxModel",
          "model_module_version": "1.5.0",
          "state": {
            "_dom_classes": [],
            "_model_module": "@jupyter-widgets/controls",
            "_model_module_version": "1.5.0",
            "_model_name": "HBoxModel",
            "_view_count": null,
            "_view_module": "@jupyter-widgets/controls",
            "_view_module_version": "1.5.0",
            "_view_name": "HBoxView",
            "box_style": "",
            "children": [
              "IPY_MODEL_93df55cb722e4b028da9d27108c600a0",
              "IPY_MODEL_108f7a98fe1a49aca23e17cac0e5cde7",
              "IPY_MODEL_6b833bdf2fb14c1ea4e3620c39753e44"
            ],
            "layout": "IPY_MODEL_39e57f50918c468394805328bad09ca1"
          }
        },
        "93df55cb722e4b028da9d27108c600a0": {
          "model_module": "@jupyter-widgets/controls",
          "model_name": "HTMLModel",
          "model_module_version": "1.5.0",
          "state": {
            "_dom_classes": [],
            "_model_module": "@jupyter-widgets/controls",
            "_model_module_version": "1.5.0",
            "_model_name": "HTMLModel",
            "_view_count": null,
            "_view_module": "@jupyter-widgets/controls",
            "_view_module_version": "1.5.0",
            "_view_name": "HTMLView",
            "description": "",
            "description_tooltip": null,
            "layout": "IPY_MODEL_1a537142c5eb436dadff57f1b3bc138a",
            "placeholder": "​",
            "style": "IPY_MODEL_35ec2a2e9d5446beb8275346ec7de101",
            "value": "100%"
          }
        },
        "108f7a98fe1a49aca23e17cac0e5cde7": {
          "model_module": "@jupyter-widgets/controls",
          "model_name": "FloatProgressModel",
          "model_module_version": "1.5.0",
          "state": {
            "_dom_classes": [],
            "_model_module": "@jupyter-widgets/controls",
            "_model_module_version": "1.5.0",
            "_model_name": "FloatProgressModel",
            "_view_count": null,
            "_view_module": "@jupyter-widgets/controls",
            "_view_module_version": "1.5.0",
            "_view_name": "ProgressView",
            "bar_style": "success",
            "description": "",
            "description_tooltip": null,
            "layout": "IPY_MODEL_1e99f255802a4640aef8d445118c7929",
            "max": 5,
            "min": 0,
            "orientation": "horizontal",
            "style": "IPY_MODEL_4f0274edbfc44e278579c69cb9e6d3e0",
            "value": 5
          }
        },
        "6b833bdf2fb14c1ea4e3620c39753e44": {
          "model_module": "@jupyter-widgets/controls",
          "model_name": "HTMLModel",
          "model_module_version": "1.5.0",
          "state": {
            "_dom_classes": [],
            "_model_module": "@jupyter-widgets/controls",
            "_model_module_version": "1.5.0",
            "_model_name": "HTMLModel",
            "_view_count": null,
            "_view_module": "@jupyter-widgets/controls",
            "_view_module_version": "1.5.0",
            "_view_name": "HTMLView",
            "description": "",
            "description_tooltip": null,
            "layout": "IPY_MODEL_a225415e7fd74cfb8ed73764fd69c3a2",
            "placeholder": "​",
            "style": "IPY_MODEL_86370f886d8f4aa8904ee8de41f94b71",
            "value": " 5/5 [05:00&lt;00:00, 61.31s/it]"
          }
        },
        "39e57f50918c468394805328bad09ca1": {
          "model_module": "@jupyter-widgets/base",
          "model_name": "LayoutModel",
          "model_module_version": "1.2.0",
          "state": {
            "_model_module": "@jupyter-widgets/base",
            "_model_module_version": "1.2.0",
            "_model_name": "LayoutModel",
            "_view_count": null,
            "_view_module": "@jupyter-widgets/base",
            "_view_module_version": "1.2.0",
            "_view_name": "LayoutView",
            "align_content": null,
            "align_items": null,
            "align_self": null,
            "border": null,
            "bottom": null,
            "display": null,
            "flex": null,
            "flex_flow": null,
            "grid_area": null,
            "grid_auto_columns": null,
            "grid_auto_flow": null,
            "grid_auto_rows": null,
            "grid_column": null,
            "grid_gap": null,
            "grid_row": null,
            "grid_template_areas": null,
            "grid_template_columns": null,
            "grid_template_rows": null,
            "height": null,
            "justify_content": null,
            "justify_items": null,
            "left": null,
            "margin": null,
            "max_height": null,
            "max_width": null,
            "min_height": null,
            "min_width": null,
            "object_fit": null,
            "object_position": null,
            "order": null,
            "overflow": null,
            "overflow_x": null,
            "overflow_y": null,
            "padding": null,
            "right": null,
            "top": null,
            "visibility": null,
            "width": null
          }
        },
        "1a537142c5eb436dadff57f1b3bc138a": {
          "model_module": "@jupyter-widgets/base",
          "model_name": "LayoutModel",
          "model_module_version": "1.2.0",
          "state": {
            "_model_module": "@jupyter-widgets/base",
            "_model_module_version": "1.2.0",
            "_model_name": "LayoutModel",
            "_view_count": null,
            "_view_module": "@jupyter-widgets/base",
            "_view_module_version": "1.2.0",
            "_view_name": "LayoutView",
            "align_content": null,
            "align_items": null,
            "align_self": null,
            "border": null,
            "bottom": null,
            "display": null,
            "flex": null,
            "flex_flow": null,
            "grid_area": null,
            "grid_auto_columns": null,
            "grid_auto_flow": null,
            "grid_auto_rows": null,
            "grid_column": null,
            "grid_gap": null,
            "grid_row": null,
            "grid_template_areas": null,
            "grid_template_columns": null,
            "grid_template_rows": null,
            "height": null,
            "justify_content": null,
            "justify_items": null,
            "left": null,
            "margin": null,
            "max_height": null,
            "max_width": null,
            "min_height": null,
            "min_width": null,
            "object_fit": null,
            "object_position": null,
            "order": null,
            "overflow": null,
            "overflow_x": null,
            "overflow_y": null,
            "padding": null,
            "right": null,
            "top": null,
            "visibility": null,
            "width": null
          }
        },
        "35ec2a2e9d5446beb8275346ec7de101": {
          "model_module": "@jupyter-widgets/controls",
          "model_name": "DescriptionStyleModel",
          "model_module_version": "1.5.0",
          "state": {
            "_model_module": "@jupyter-widgets/controls",
            "_model_module_version": "1.5.0",
            "_model_name": "DescriptionStyleModel",
            "_view_count": null,
            "_view_module": "@jupyter-widgets/base",
            "_view_module_version": "1.2.0",
            "_view_name": "StyleView",
            "description_width": ""
          }
        },
        "1e99f255802a4640aef8d445118c7929": {
          "model_module": "@jupyter-widgets/base",
          "model_name": "LayoutModel",
          "model_module_version": "1.2.0",
          "state": {
            "_model_module": "@jupyter-widgets/base",
            "_model_module_version": "1.2.0",
            "_model_name": "LayoutModel",
            "_view_count": null,
            "_view_module": "@jupyter-widgets/base",
            "_view_module_version": "1.2.0",
            "_view_name": "LayoutView",
            "align_content": null,
            "align_items": null,
            "align_self": null,
            "border": null,
            "bottom": null,
            "display": null,
            "flex": null,
            "flex_flow": null,
            "grid_area": null,
            "grid_auto_columns": null,
            "grid_auto_flow": null,
            "grid_auto_rows": null,
            "grid_column": null,
            "grid_gap": null,
            "grid_row": null,
            "grid_template_areas": null,
            "grid_template_columns": null,
            "grid_template_rows": null,
            "height": null,
            "justify_content": null,
            "justify_items": null,
            "left": null,
            "margin": null,
            "max_height": null,
            "max_width": null,
            "min_height": null,
            "min_width": null,
            "object_fit": null,
            "object_position": null,
            "order": null,
            "overflow": null,
            "overflow_x": null,
            "overflow_y": null,
            "padding": null,
            "right": null,
            "top": null,
            "visibility": null,
            "width": null
          }
        },
        "4f0274edbfc44e278579c69cb9e6d3e0": {
          "model_module": "@jupyter-widgets/controls",
          "model_name": "ProgressStyleModel",
          "model_module_version": "1.5.0",
          "state": {
            "_model_module": "@jupyter-widgets/controls",
            "_model_module_version": "1.5.0",
            "_model_name": "ProgressStyleModel",
            "_view_count": null,
            "_view_module": "@jupyter-widgets/base",
            "_view_module_version": "1.2.0",
            "_view_name": "StyleView",
            "bar_color": null,
            "description_width": ""
          }
        },
        "a225415e7fd74cfb8ed73764fd69c3a2": {
          "model_module": "@jupyter-widgets/base",
          "model_name": "LayoutModel",
          "model_module_version": "1.2.0",
          "state": {
            "_model_module": "@jupyter-widgets/base",
            "_model_module_version": "1.2.0",
            "_model_name": "LayoutModel",
            "_view_count": null,
            "_view_module": "@jupyter-widgets/base",
            "_view_module_version": "1.2.0",
            "_view_name": "LayoutView",
            "align_content": null,
            "align_items": null,
            "align_self": null,
            "border": null,
            "bottom": null,
            "display": null,
            "flex": null,
            "flex_flow": null,
            "grid_area": null,
            "grid_auto_columns": null,
            "grid_auto_flow": null,
            "grid_auto_rows": null,
            "grid_column": null,
            "grid_gap": null,
            "grid_row": null,
            "grid_template_areas": null,
            "grid_template_columns": null,
            "grid_template_rows": null,
            "height": null,
            "justify_content": null,
            "justify_items": null,
            "left": null,
            "margin": null,
            "max_height": null,
            "max_width": null,
            "min_height": null,
            "min_width": null,
            "object_fit": null,
            "object_position": null,
            "order": null,
            "overflow": null,
            "overflow_x": null,
            "overflow_y": null,
            "padding": null,
            "right": null,
            "top": null,
            "visibility": null,
            "width": null
          }
        },
        "86370f886d8f4aa8904ee8de41f94b71": {
          "model_module": "@jupyter-widgets/controls",
          "model_name": "DescriptionStyleModel",
          "model_module_version": "1.5.0",
          "state": {
            "_model_module": "@jupyter-widgets/controls",
            "_model_module_version": "1.5.0",
            "_model_name": "DescriptionStyleModel",
            "_view_count": null,
            "_view_module": "@jupyter-widgets/base",
            "_view_module_version": "1.2.0",
            "_view_name": "StyleView",
            "description_width": ""
          }
        }
      }
    }
  },
  "cells": [
    {
      "cell_type": "markdown",
      "metadata": {
        "id": "nyjyu4FzUAVw"
      },
      "source": [
        "# 신경망 학습"
      ]
    },
    {
      "cell_type": "markdown",
      "metadata": {
        "id": "VQvNez4qydhL"
      },
      "source": [
        "## 단순한 신경망 구현 : Logic Gate"
      ]
    },
    {
      "cell_type": "markdown",
      "metadata": {
        "id": "-7te43hqyiiJ"
      },
      "source": [
        "### 필요한 모듈 import"
      ]
    },
    {
      "cell_type": "code",
      "metadata": {
        "id": "Qf2F_YbdybBE"
      },
      "source": [
        "import numpy as np\n",
        "import matplotlib.pyplot as plt\n",
        "plt.style.use('seaborn-v0_8-whitegrid')"
      ],
      "execution_count": 1,
      "outputs": []
    },
    {
      "cell_type": "markdown",
      "metadata": {
        "id": "orUoPmDcymhj"
      },
      "source": [
        "### 하이퍼 파라미터(Hyper Parameter)"
      ]
    },
    {
      "cell_type": "code",
      "metadata": {
        "id": "bOAmMxo0ymDF"
      },
      "source": [
        "epochs = 1000\n",
        "lr = 0.1"
      ],
      "execution_count": 2,
      "outputs": []
    },
    {
      "cell_type": "markdown",
      "metadata": {
        "id": "BjmLWgFVysnq"
      },
      "source": [
        "### 유틸 함수들(Util Functions)"
      ]
    },
    {
      "cell_type": "code",
      "metadata": {
        "id": "Y4OMFGrjyq1c"
      },
      "source": [
        "def sigmoid(x):\n",
        "  return 1 / (1 + np.exp(-x))\n",
        "\n",
        "def mean_squared_error(pred_y, true_y):\n",
        "  return 0.5 * (np.sum(true_y - pred_y)**2)\n",
        "\n",
        "def cross_entropy_error(pred_y, true_y):\n",
        "  if true_y.ndim == 1:\n",
        "    true_y = true_y.reshape(1, -1)\n",
        "    pred_y = pred_y.reshape(1, -1)\n",
        "\n",
        "  delta = 1e-7\n",
        "  return -np.sum(true_y * np.log(pred_y + delta))\n",
        "\n",
        "def cross_entropy_error_batch(pred_y, true_y):\n",
        "  if true_y.ndim == 1:\n",
        "    true_y = true_y.reshape(1, -1)\n",
        "    pred_y = pred_y.reshape(1, -1)\n",
        "\n",
        "  delta = 1e-7\n",
        "  batch_size = pred_y.shape[0]\n",
        "  return -np.sum(true_y * np.log(pred_y + delta)) / batch_size\n",
        "\n",
        "def cross_entropy_error_for_bin(pred_y, true_y):\n",
        "  return 0.5 * np.sum((-true_y * np.log(pred_y) - (1 - true_y) * np.log(1-pred_y)))\n",
        "\n",
        "def softmax(a):\n",
        "  exp_a = np.exp(a)\n",
        "  sum_exp_a = np.sum(exp_a)\n",
        "  y = exp_a / sum_exp_a\n",
        "  return y\n",
        "\n",
        "def differential(f,x):\n",
        "  eps = 1e-5\n",
        "  diff_value = np.zeros_like(x)\n",
        "\n",
        "  for i in range(x.shape[0]):\n",
        "    temp_val = x[i]\n",
        "\n",
        "    x[i] = temp_val + eps\n",
        "    f_h1 = f(x)\n",
        "\n",
        "    x[i] = temp_val - eps\n",
        "    f_h2 = f(x)\n",
        "\n",
        "    diff_value[i] = (f_h1 - f_h2) / (2 * eps)\n",
        "    x[i] = temp_val\n",
        "  return diff_value"
      ],
      "execution_count": 5,
      "outputs": []
    },
    {
      "cell_type": "markdown",
      "metadata": {
        "id": "h5Z2LTT_y3i5"
      },
      "source": [
        "### 신경망"
      ]
    },
    {
      "cell_type": "code",
      "metadata": {
        "id": "gMTjjYgdy3D8"
      },
      "source": [
        "class LogicGateNet():\n",
        "  def __init__(self):\n",
        "    def weight_init():\n",
        "      np.random.seed(1)\n",
        "      weights = np.random.randn(2)\n",
        "      bias = np.random.rand(1)\n",
        "\n",
        "      return weights, bias\n",
        "\n",
        "    self.weights, self.bias = weight_init()\n",
        "\n",
        "  def predict(self, x):\n",
        "    W = self.weights.reshape(-1,1)\n",
        "    b = self.bias\n",
        "\n",
        "    pred_y = sigmoid(np.dot(x, W) + b)\n",
        "    return pred_y\n",
        "\n",
        "  def loss(self, x, true_y):\n",
        "    pred_y = self.predict(x)\n",
        "    return cross_entropy_error_for_bin(pred_y, true_y)\n",
        "\n",
        "  def get_gradient(self, x, t):\n",
        "    def loss_grad(grad):\n",
        "      return self.loss(x, t)\n",
        "\n",
        "    grad_W = differential(loss_grad, self.weights)\n",
        "    grad_B = differential(loss_grad, self.bias)\n",
        "\n",
        "    return grad_W, grad_B\n"
      ],
      "execution_count": 11,
      "outputs": []
    },
    {
      "cell_type": "markdown",
      "metadata": {
        "id": "wbNDoH_3zbGZ"
      },
      "source": [
        "### AND Gate"
      ]
    },
    {
      "cell_type": "markdown",
      "metadata": {
        "id": "2P-ib8_RzHTh"
      },
      "source": [
        "#### 모델 생성 및 학습"
      ]
    },
    {
      "cell_type": "code",
      "metadata": {
        "id": "rRiaACA6zGom",
        "colab": {
          "base_uri": "https://localhost:8080/"
        },
        "outputId": "865e0d2b-45c1-4950-9c26-9e970bd79013"
      },
      "source": [
        "AND = LogicGateNet()\n",
        "\n",
        "X = np.array([[0,0],[0,1],[1,0],[1,1]])\n",
        "Y = np.array([[0],[0],[0],[1]])\n",
        "\n",
        "train_loss_list = list()\n",
        "\n",
        "for i in range(epochs):\n",
        "  grad_W, grad_B = AND.get_gradient(X, Y)\n",
        "\n",
        "  AND.weights -= lr * grad_W\n",
        "  AND.bias -= lr * grad_B\n",
        "\n",
        "  loss = AND.loss(X,Y)\n",
        "  train_loss_list.append(loss)\n",
        "\n",
        "  if i % 100 == 99:\n",
        "    print(\"Epoch: {}, Cost: {}, Weights: {}, Bias: {}\".format(i+1, loss, AND.weights, AND.bias))\n"
      ],
      "execution_count": 13,
      "outputs": [
        {
          "output_type": "stream",
          "name": "stdout",
          "text": [
            "Epoch: 100, Cost: 0.6886489498064596, Weights: [1.56426876 0.79168393], Bias: [-2.14871589]\n",
            "Epoch: 200, Cost: 0.4946368603056357, Weights: [2.01360719 1.71241131], Bias: [-3.07894028]\n",
            "Epoch: 300, Cost: 0.3920165980744903, Weights: [2.42841657 2.29753793], Bias: [-3.79103207]\n",
            "Epoch: 400, Cost: 0.32572143747907645, Weights: [2.794852   2.73235738], Bias: [-4.37257095]\n",
            "Epoch: 500, Cost: 0.27863601334681387, Weights: [3.11636193 3.08408364], Bias: [-4.86571237]\n",
            "Epoch: 600, Cost: 0.24328504683852972, Weights: [3.40015395 3.38235762], Bias: [-5.29433736]\n",
            "Epoch: 700, Cost: 0.21572536552486304, Weights: [3.65300561 3.64264217], Bias: [-5.67349792]\n",
            "Epoch: 800, Cost: 0.1936324442837598, Weights: [3.88044124 3.87412053], Bias: [-6.01340133]\n",
            "Epoch: 900, Cost: 0.1755321312791929, Weights: [4.08680123 4.08279091], Bias: [-6.32133891]\n",
            "Epoch: 1000, Cost: 0.16043926933325997, Weights: [4.27548114 4.27284863], Bias: [-6.6027234]\n"
          ]
        }
      ]
    },
    {
      "cell_type": "markdown",
      "metadata": {
        "id": "PZoyQv_czT7R"
      },
      "source": [
        "#### 테스트"
      ]
    },
    {
      "cell_type": "code",
      "metadata": {
        "id": "-7CvWgc9zREa",
        "colab": {
          "base_uri": "https://localhost:8080/"
        },
        "outputId": "6c4bc7c2-e969-428b-a1c7-8b5de6d84d12"
      },
      "source": [
        "print(AND.predict(X))"
      ],
      "execution_count": 14,
      "outputs": [
        {
          "output_type": "stream",
          "name": "stdout",
          "text": [
            "[[0.00135483]\n",
            " [0.08867878]\n",
            " [0.08889176]\n",
            " [0.87496677]]\n"
          ]
        }
      ]
    },
    {
      "cell_type": "markdown",
      "metadata": {
        "id": "HoMXNiXWzts-"
      },
      "source": [
        "### OR Gate"
      ]
    },
    {
      "cell_type": "markdown",
      "metadata": {
        "id": "DZ79pc4jzw3O"
      },
      "source": [
        "#### 모델 생성 및 학습"
      ]
    },
    {
      "cell_type": "code",
      "metadata": {
        "id": "8gnLmAyQzuoL",
        "colab": {
          "base_uri": "https://localhost:8080/"
        },
        "outputId": "bbc6a9a8-6218-4cee-cf50-2368bd72d318"
      },
      "source": [
        "OR = LogicGateNet()\n",
        "\n",
        "X = np.array([[0, 0],[0, 1],[1, 0], [1, 1]])\n",
        "Y_2 = np.array([[0],[1],[1],[1]])\n",
        "\n",
        "train_loss_list = list()\n",
        "\n",
        "for i in range(epochs):\n",
        "  grad_W, grad_B = OR.get_gradient(X, Y_2)\n",
        "\n",
        "  OR.weights -= lr * grad_W\n",
        "  OR.bias -= lr * grad_B\n",
        "\n",
        "  loss = OR.loss(X, Y_2)\n",
        "  train_loss_list.append(loss)\n",
        "\n",
        "  if i % 100 == 99:\n",
        "    print(\"Epoch: {}, Cost: {}, Weights: {}, Bias: {}\".format(i+1, loss, OR.weights, OR.bias))"
      ],
      "execution_count": 27,
      "outputs": [
        {
          "output_type": "stream",
          "name": "stdout",
          "text": [
            "Epoch: 100, Cost: 0.4958092384815969, Weights: [2.45484353 1.40566594], Bias: [-0.14439625]\n",
            "Epoch: 200, Cost: 0.3398674231516072, Weights: [2.98631846 2.39448393], Bias: [-0.67661178]\n",
            "Epoch: 300, Cost: 0.25733609861825163, Weights: [3.45016595 3.08431266], Bias: [-1.03721585]\n",
            "Epoch: 400, Cost: 0.20630142190030487, Weights: [3.85230067 3.60865952], Bias: [-1.30598633]\n",
            "Epoch: 500, Cost: 0.17165499221120914, Weights: [4.20195872 4.03000824], Bias: [-1.52060015]\n",
            "Epoch: 600, Cost: 0.14665018845468802, Weights: [4.50867681 4.38171478], Bias: [-1.6994397]\n",
            "Epoch: 700, Cost: 0.12779768649418508, Weights: [4.78049264 4.68334611], Bias: [-1.8527641]\n",
            "Epoch: 800, Cost: 0.11310517185398535, Weights: [5.0237707 4.9472786], Bias: [-1.98691756]\n",
            "Epoch: 900, Cost: 0.10135180918374054, Weights: [5.24347159 5.18181684], Bias: [-2.10611973]\n",
            "Epoch: 1000, Cost: 0.0917484300860403, Weights: [5.44346811 5.39279833], Bias: [-2.21332947]\n"
          ]
        }
      ]
    },
    {
      "cell_type": "markdown",
      "metadata": {
        "id": "jWmEtX_VnLSI"
      },
      "source": [
        "#### 테스트"
      ]
    },
    {
      "cell_type": "code",
      "metadata": {
        "id": "JwPpOs3-z2vU",
        "colab": {
          "base_uri": "https://localhost:8080/"
        },
        "outputId": "32b39a86-b1ba-4131-e401-bae3b0a7f71f"
      },
      "source": [
        "print(OR.predict(X))"
      ],
      "execution_count": 28,
      "outputs": [
        {
          "output_type": "stream",
          "name": "stdout",
          "text": [
            "[[0.09855987]\n",
            " [0.9600543 ]\n",
            " [0.96195283]\n",
            " [0.9998201 ]]\n"
          ]
        }
      ]
    },
    {
      "cell_type": "markdown",
      "metadata": {
        "id": "JEBhczCIz57Q"
      },
      "source": [
        "### NAND Gate"
      ]
    },
    {
      "cell_type": "markdown",
      "metadata": {
        "id": "TzQaaHKKz8sZ"
      },
      "source": [
        "#### 모델 생성 및 학습"
      ]
    },
    {
      "cell_type": "code",
      "metadata": {
        "id": "h463QUQRz8PS",
        "colab": {
          "base_uri": "https://localhost:8080/"
        },
        "outputId": "e8553abf-818e-424f-844c-a533dc9d22db"
      },
      "source": [
        "NAND = LogicGateNet()\n",
        "\n",
        "X = np.array([[0, 0], [0, 1], [1, 0], [1, 1]])\n",
        "Y_3 = np.array([[1], [1], [1], [0]])\n",
        "\n",
        "train_loss_list = list()\n",
        "\n",
        "for i in range(epochs):\n",
        "  grad_W, grad_B = NAND.get_gradient(X, Y_3)\n",
        "\n",
        "  NAND.weights -= lr * grad_W\n",
        "  NAND.bias -= lr * grad_B\n",
        "\n",
        "  loss = NAND.loss(X, Y_3)\n",
        "  train_loss_list.append(loss)\n",
        "\n",
        "  if i % 100 == 99:\n",
        "    print(\"Epoch: {}, Cost: {}, Weights: {}, Bias: {}\".format(i+1, loss, NAND.weights, NAND.bias))"
      ],
      "execution_count": 29,
      "outputs": [
        {
          "output_type": "stream",
          "name": "stdout",
          "text": [
            "Epoch: 100, Cost: 0.7911738653752329, Weights: [-0.48972722 -1.25798774], Bias: [1.74566135]\n",
            "Epoch: 200, Cost: 0.543049095786558, Weights: [-1.51545093 -1.80261804], Bias: [2.79151756]\n",
            "Epoch: 300, Cost: 0.42125913027213824, Weights: [-2.14614496 -2.26642639], Bias: [3.56506179]\n",
            "Epoch: 400, Cost: 0.3456117101517592, Weights: [-2.607325   -2.66303355], Bias: [4.18521187]\n",
            "Epoch: 500, Cost: 0.2931298605175886, Weights: [-2.97696333 -3.00501941], Bias: [4.70528682]\n",
            "Epoch: 600, Cost: 0.2543396785999729, Weights: [-3.28850585 -3.30365261], Bias: [5.1539571]\n",
            "Epoch: 700, Cost: 0.2244391859677557, Weights: [-3.55912171 -3.56778782], Bias: [5.54869527]\n",
            "Epoch: 800, Cost: 0.20067626330787763, Weights: [-3.7989077  -3.80411461], Bias: [5.90108417]\n",
            "Epoch: 900, Cost: 0.1813412551756729, Weights: [-4.01441395 -4.01767547], Bias: [6.21926514]\n",
            "Epoch: 1000, Cost: 0.16530944081672722, Weights: [-4.21019696 -4.21231432], Bias: [6.50920952]\n"
          ]
        }
      ]
    },
    {
      "cell_type": "markdown",
      "metadata": {
        "id": "jR-rHaTU0Mga"
      },
      "source": [
        "#### 테스트"
      ]
    },
    {
      "cell_type": "code",
      "metadata": {
        "id": "WpzKW6sm0Ghp",
        "colab": {
          "base_uri": "https://localhost:8080/"
        },
        "outputId": "20da3459-d255-45b1-ca03-243b482f7708"
      },
      "source": [
        "print(NAND.predict(X))"
      ],
      "execution_count": 30,
      "outputs": [
        {
          "output_type": "stream",
          "name": "stdout",
          "text": [
            "[[0.99851256]\n",
            " [0.90861957]\n",
            " [0.90879523]\n",
            " [0.12861037]]\n"
          ]
        }
      ]
    },
    {
      "cell_type": "markdown",
      "metadata": {
        "id": "NiTWfSQ60Zl2"
      },
      "source": [
        "### XOR Gate"
      ]
    },
    {
      "cell_type": "markdown",
      "metadata": {
        "id": "hmmL0VIu0bXq"
      },
      "source": [
        "#### 모델 생성 및 학습"
      ]
    },
    {
      "cell_type": "code",
      "metadata": {
        "id": "0CGm0r1M0a9M",
        "colab": {
          "base_uri": "https://localhost:8080/"
        },
        "outputId": "7bcf5a17-cf6d-4713-ad74-a10d74e9ce55"
      },
      "source": [
        "XOR = LogicGateNet()\n",
        "\n",
        "X = np.array([[0, 0],[0, 1], [1, 0], [1, 1]])\n",
        "Y_4 = np.array([[0], [1], [1], [0]])\n",
        "\n",
        "train_loss_list = list()\n",
        "\n",
        "for i in range(epochs):\n",
        "  grad_W, grad_B = XOR.get_gradient(X, Y_4)\n",
        "\n",
        "  XOR.weights -= lr * grad_W\n",
        "  XOR.bias -= lr * grad_B\n",
        "\n",
        "  loss = XOR.loss(X, Y_4)\n",
        "  train_loss_list.append(loss)\n",
        "\n",
        "  if i % 100 == 99:\n",
        "    print(\"Epoch: {}, Cost: {}, Weights: {}, Bias: {}\".format(i+1, loss, XOR.weights, XOR.bias))"
      ],
      "execution_count": 31,
      "outputs": [
        {
          "output_type": "stream",
          "name": "stdout",
          "text": [
            "Epoch: 100, Cost: 1.4026852245460188, Weights: [ 0.47012771 -0.19931523], Bias: [-0.16097708]\n",
            "Epoch: 200, Cost: 1.3879445622848803, Weights: [ 0.1572739  -0.03387161], Bias: [-0.07321056]\n",
            "Epoch: 300, Cost: 1.3864920300483525, Weights: [0.05525161 0.00089673], Bias: [-0.03330094]\n",
            "Epoch: 400, Cost: 1.3863236205352125, Weights: [0.02049628 0.00504503], Bias: [-0.01514784]\n",
            "Epoch: 500, Cost: 1.38629947436468, Weights: [0.0080051  0.00361297], Bias: [-0.00689034]\n",
            "Epoch: 600, Cost: 1.3862953430687432, Weights: [0.00326661 0.00201812], Bias: [-0.00313421]\n",
            "Epoch: 700, Cost: 1.3862945581495087, Weights: [0.00137938 0.00102449], Bias: [-0.00142566]\n",
            "Epoch: 800, Cost: 1.3862944013903693, Weights: [0.00059716 0.00049628], Bias: [-0.00064849]\n",
            "Epoch: 900, Cost: 1.3862943694120304, Weights: [0.00026303 0.00023435], Bias: [-0.00029498]\n",
            "Epoch: 1000, Cost: 1.386294362832352, Weights: [0.0001172  0.00010905], Bias: [-0.00013418]\n"
          ]
        }
      ]
    },
    {
      "cell_type": "markdown",
      "metadata": {
        "id": "Cy-ktElI0o5P"
      },
      "source": [
        "#### 테스트"
      ]
    },
    {
      "cell_type": "code",
      "metadata": {
        "id": "GWAJAJ_T0oqm",
        "colab": {
          "base_uri": "https://localhost:8080/"
        },
        "outputId": "a56a27a7-8fe8-40e4-c44b-cfcbc83d0d5d"
      },
      "source": [
        "print(XOR.predict(X)) # XOR 문제이다.해결 -> layer를 다층 구조로 해야함(다층 퍼셉트론)"
      ],
      "execution_count": 32,
      "outputs": [
        {
          "output_type": "stream",
          "name": "stdout",
          "text": [
            "[[0.49996646]\n",
            " [0.49999372]\n",
            " [0.49999575]\n",
            " [0.50002302]]\n"
          ]
        }
      ]
    },
    {
      "cell_type": "markdown",
      "metadata": {
        "id": "VAlq_-6E1nIq"
      },
      "source": [
        "#### 2층 신경망으로 XOR 게이트 구현(1)\n",
        "\n",
        "- 얕은 신경망, Shallow Neural Network\n",
        "\n",
        "- 두 논리게이트(NAND, OR)를 통과하고  \n",
        "  AND 게이트로 합쳐서 구현\n",
        "\n",
        "- 06 신경망 구조 참고"
      ]
    },
    {
      "cell_type": "code",
      "metadata": {
        "id": "mr7nYMG20jTo"
      },
      "source": [
        "X = np.array([[0, 0], [0, 1], [1, 0], [1, 1]])\n",
        "Y_5 = np.array([[0], [1], [1], [0]])\n",
        "\n",
        "s1 = NAND.predict(X)\n",
        "s2 = OR.predict(X)\n",
        "X_2 = np.array([s1, s2]).T.reshape(-1, 2)"
      ],
      "execution_count": 33,
      "outputs": []
    },
    {
      "cell_type": "markdown",
      "metadata": {
        "id": "nkTDx8Ah1xHY"
      },
      "source": [
        "#### 테스트"
      ]
    },
    {
      "cell_type": "code",
      "metadata": {
        "id": "LK2iD5A91yWQ",
        "colab": {
          "base_uri": "https://localhost:8080/"
        },
        "outputId": "c4925904-432d-4963-e1df-9e7b4e87a720"
      },
      "source": [
        "print(AND.predict(X_2))"
      ],
      "execution_count": 34,
      "outputs": [
        {
          "output_type": "stream",
          "name": "stdout",
          "text": [
            "[[0.12870357]\n",
            " [0.79966936]\n",
            " [0.80108545]\n",
            " [0.14420781]]\n"
          ]
        }
      ]
    },
    {
      "cell_type": "markdown",
      "metadata": {
        "id": "i-SK4G262Agn"
      },
      "source": [
        "#### 2층 신경망으로 XOR 게이트 구현(2)\n",
        "- 클래스로 구현"
      ]
    },
    {
      "cell_type": "code",
      "metadata": {
        "id": "8RpnHCRZ1zwr"
      },
      "source": [
        "class XORNet():\n",
        "\n",
        "  def __init__(self):\n",
        "    np.random.seed(1)\n",
        "\n",
        "    def weight_init():\n",
        "      params = {}\n",
        "      params['w_1'] = np.random.randn(2)\n",
        "      params['b_1'] = np.random.randn(2)\n",
        "      params['w_2'] = np.random.randn(2)\n",
        "      params['b_2'] = np.random.randn(1)\n",
        "      return params\n",
        "\n",
        "    self.params = weight_init()\n",
        "\n",
        "  def predict(self, x):\n",
        "    W_1, W_2 = self.params['w_1'].reshape(-1, 1), self.params['w_2'].reshape(-1, 1)\n",
        "    B_1, B_2 = self.params['b_1'], self.params['b_2']\n",
        "\n",
        "    A1 = np.dot(x, W_1) + B_1\n",
        "    Z1 = sigmoid(A1)\n",
        "    A2 = np.dot(Z1, W_2) + B_2\n",
        "    pred_y = sigmoid(A2)\n",
        "\n",
        "    return pred_y\n",
        "\n",
        "  def loss(self, x, true_y):\n",
        "    pred_y = self.predict(x)\n",
        "    return cross_entropy_error_for_bin(pred_y, true_y)\n",
        "\n",
        "  def get_gradient(self, x, t):\n",
        "    def loss_grad(grad):\n",
        "      return self.loss(x, t)\n",
        "\n",
        "    grads = {}\n",
        "    grads['w_1'] = differential(loss_grad, self.params['w_1'])\n",
        "    grads['b_1'] = differential(loss_grad, self.params['b_1'])\n",
        "    grads['w_2'] = differential(loss_grad, self.params['w_2'])\n",
        "    grads['b_2'] = differential(loss_grad, self.params['b_2'])\n",
        "\n",
        "    return grads"
      ],
      "execution_count": 43,
      "outputs": []
    },
    {
      "cell_type": "markdown",
      "metadata": {
        "id": "lplK_x0l2YLh"
      },
      "source": [
        "#### 하이퍼 파라미터(Hyper Parameter)\n",
        "- 재조정"
      ]
    },
    {
      "cell_type": "code",
      "metadata": {
        "id": "qf-3wWSv2b7l"
      },
      "source": [
        "lr = 0.3"
      ],
      "execution_count": 44,
      "outputs": []
    },
    {
      "cell_type": "markdown",
      "metadata": {
        "id": "lmHKd45d2JbJ"
      },
      "source": [
        "#### 모델 생성 및 학습"
      ]
    },
    {
      "cell_type": "code",
      "metadata": {
        "id": "cQNd3XVd2Gj7",
        "colab": {
          "base_uri": "https://localhost:8080/"
        },
        "outputId": "e2bfb61f-b859-43af-caee-3f540d708c0f"
      },
      "source": [
        "XOR = XORNet()\n",
        "X = np.array([[0, 0], [0, 1], [1, 0], [1, 1]])\n",
        "Y_5 = np.array([[0], [1], [1], [0]])\n",
        "\n",
        "train_loss_list = list()\n",
        "\n",
        "for i in range(epochs):\n",
        "  grads = XOR.get_gradient(X, Y_5)\n",
        "\n",
        "  for key in ('w_1', 'b_1', 'w_2', 'b_2'):\n",
        "    XOR.params[key] -= lr * grads[key]\n",
        "\n",
        "  loss = XOR.loss(X, Y_5)\n",
        "  train_loss_list.append(loss)\n",
        "\n",
        "  if i % 100 == 99:\n",
        "    print(\"Epoch: {}, Cost: {}\".format(i+1, loss))"
      ],
      "execution_count": 45,
      "outputs": [
        {
          "output_type": "stream",
          "name": "stdout",
          "text": [
            "Epoch: 100, Cost: 1.2038602915397818\n",
            "Epoch: 200, Cost: 0.48556256977597356\n",
            "Epoch: 300, Cost: 0.22618525574337325\n",
            "Epoch: 400, Cost: 0.13938405098194928\n",
            "Epoch: 500, Cost: 0.0990677322807521\n",
            "Epoch: 600, Cost: 0.07631544967766621\n",
            "Epoch: 700, Cost: 0.06184796121701281\n",
            "Epoch: 800, Cost: 0.051889166294454614\n",
            "Epoch: 900, Cost: 0.04463774048835388\n",
            "Epoch: 1000, Cost: 0.039132482176113925\n"
          ]
        }
      ]
    },
    {
      "cell_type": "markdown",
      "metadata": {
        "id": "IIV_GsoG2eDs"
      },
      "source": [
        "#### 테스트"
      ]
    },
    {
      "cell_type": "code",
      "metadata": {
        "id": "Dpr0nZhc2Szr",
        "colab": {
          "base_uri": "https://localhost:8080/"
        },
        "outputId": "635006d3-439e-4bc6-dc79-8858c4045354"
      },
      "source": [
        "print(XOR.predict(X))"
      ],
      "execution_count": 46,
      "outputs": [
        {
          "output_type": "stream",
          "name": "stdout",
          "text": [
            "[[0.01739414]\n",
            " [0.97447579]\n",
            " [0.98282956]\n",
            " [0.01738964]]\n"
          ]
        }
      ]
    },
    {
      "cell_type": "markdown",
      "metadata": {
        "id": "_1IuDL8R7wrx"
      },
      "source": [
        "## 다중 클래스 분류 : MNIST Dataset"
      ]
    },
    {
      "cell_type": "markdown",
      "metadata": {
        "id": "9CiJ5Gmq9Wpa"
      },
      "source": [
        "### 배치 처리\n",
        "- 학습 데이터 전체를 한번에 진행하지 않고  \n",
        "  일부 데이터(샘플)을 확률적으로 구해서 조금씩 나누어 진행\n",
        "\n",
        "- 확률적 경사 하강법(Stochastic Gradient Descent) 또는  \n",
        "  미니 배치 학습법(mini-batch learning)이라고도 부름"
      ]
    },
    {
      "cell_type": "markdown",
      "metadata": {
        "id": "YUDNWwj49byH"
      },
      "source": [
        "#### 신경망 구현 : MNIST"
      ]
    },
    {
      "cell_type": "markdown",
      "metadata": {
        "id": "WjBRQYlP74GM"
      },
      "source": [
        "#### 필요한 모듈 임포트"
      ]
    },
    {
      "cell_type": "code",
      "metadata": {
        "id": "h0lJbkuW71lm"
      },
      "source": [
        "import numpy as np\n",
        "import matplotlib.pyplot as plt\n",
        "import tensorflow as tf\n",
        "import time\n",
        "from tqdm.notebook import tqdm"
      ],
      "execution_count": 48,
      "outputs": []
    },
    {
      "cell_type": "markdown",
      "metadata": {
        "id": "MDvtEiD77_gu"
      },
      "source": [
        "#### 데이터 로드"
      ]
    },
    {
      "cell_type": "code",
      "metadata": {
        "id": "4WL7zXMl_uo9",
        "colab": {
          "base_uri": "https://localhost:8080/"
        },
        "outputId": "726fabb7-5383-44cc-80ad-c48b9ce3b79d"
      },
      "source": [
        "mnist = tf.keras.datasets.mnist\n",
        "(x_train, y_train), (x_test, y_test) = mnist.load_data()"
      ],
      "execution_count": 49,
      "outputs": [
        {
          "output_type": "stream",
          "name": "stdout",
          "text": [
            "Downloading data from https://storage.googleapis.com/tensorflow/tf-keras-datasets/mnist.npz\n",
            "\u001b[1m11490434/11490434\u001b[0m \u001b[32m━━━━━━━━━━━━━━━━━━━━\u001b[0m\u001b[37m\u001b[0m \u001b[1m2s\u001b[0m 0us/step\n"
          ]
        }
      ]
    },
    {
      "cell_type": "markdown",
      "metadata": {
        "id": "e_rNg5Jn8FRA"
      },
      "source": [
        "#### 데이터 확인"
      ]
    },
    {
      "cell_type": "code",
      "metadata": {
        "id": "u4wpsQGA8BOO",
        "colab": {
          "base_uri": "https://localhost:8080/"
        },
        "outputId": "2afd4648-61b5-4620-e76a-41b958f3dd67"
      },
      "source": [
        "print(x_train.shape)\n",
        "print(y_train.shape)\n",
        "\n",
        "print(x_test.shape)\n",
        "print(y_test.shape)\n"
      ],
      "execution_count": 51,
      "outputs": [
        {
          "output_type": "stream",
          "name": "stdout",
          "text": [
            "(60000, 28, 28)\n",
            "(60000,)\n",
            "(10000, 28, 28)\n",
            "(10000,)\n"
          ]
        }
      ]
    },
    {
      "cell_type": "code",
      "metadata": {
        "id": "pU7nvkHO8IFR",
        "colab": {
          "base_uri": "https://localhost:8080/",
          "height": 443
        },
        "outputId": "e0fd897c-9e34-4e01-d64a-095b92d018ae"
      },
      "source": [
        "img = x_train[0]\n",
        "print(img.shape)\n",
        "\n",
        "plt.imshow(img, cmap='gray')\n",
        "plt.show()"
      ],
      "execution_count": 52,
      "outputs": [
        {
          "output_type": "stream",
          "name": "stdout",
          "text": [
            "(28, 28)\n"
          ]
        },
        {
          "output_type": "display_data",
          "data": {
            "text/plain": [
              "<Figure size 640x480 with 1 Axes>"
            ],
            "image/png": "[encoded data removed]"
          },
          "metadata": {}
        }
      ]
    },
    {
      "cell_type": "code",
      "metadata": {
        "id": "WbBA1Kl18KGT",
        "colab": {
          "base_uri": "https://localhost:8080/"
        },
        "outputId": "6e5e3aa9-493a-4575-9d50-ab799acb2da3"
      },
      "source": [
        "y_train[0]"
      ],
      "execution_count": 53,
      "outputs": [
        {
          "output_type": "execute_result",
          "data": {
            "text/plain": [
              "5"
            ]
          },
          "metadata": {},
          "execution_count": 53
        }
      ]
    },
    {
      "cell_type": "markdown",
      "metadata": {
        "id": "MTFu8i-z8U_C"
      },
      "source": [
        "#### 데이터 전처리 (Data Preprocessing)"
      ]
    },
    {
      "cell_type": "code",
      "metadata": {
        "id": "q76pjKDVftHJ"
      },
      "source": [
        "def flatten_for_mnist(x): # input 다차원 배열(x)를 2차원으로 flatten(이미지 데이터에서 자주 활용됨)\n",
        "  temp = np.zeros((x.shape[0], x[0].size))\n",
        "\n",
        "  for idx, data in enumerate(x):\n",
        "    temp[idx, :] = data.flatten() # 다차원 데이터를 1차원 배열로 변환 후 temp의 idx번째 행에 평탄화된 데이터 저장\n",
        "  return temp"
      ],
      "execution_count": 80,
      "outputs": []
    },
    {
      "cell_type": "code",
      "metadata": {
        "id": "vvMWrDOR8Mns",
        "colab": {
          "base_uri": "https://localhost:8080/"
        },
        "outputId": "83d23c2c-baa4-4f10-970b-c5b8b9549dfb"
      },
      "source": [
        "x_train, x_test = x_train / 255.0, x_test / 255.0 # 입력 데이터를 255로 나누어 정규화 (픽셀 값이 0.0~1.0 사이로 변환되면서 학습을 안정적으로 수행할 수 있음)\n",
        "\n",
        "x_train = flatten_for_mnist(x_train) # 모델이 일렬로 된 벡터로 처리할 수 있도록 데이터를 2차원으로 평탄화\n",
        "x_test = flatten_for_mnist(x_test)\n",
        "\n",
        "print(x_train.shape)\n",
        "print(x_test.shape)\n",
        "\n",
        "y_train_ohe = tf.one_hot(y_train, depth=10).numpy() #정수 레이블을 원-핫 벡터로 변환\n",
        "y_test_ohe = tf.one_hot(y_test, depth=10).numpy() #텐서를 numpy 배열로 변환\n",
        "\n",
        "print(y_train_ohe.shape)\n",
        "print(y_test_ohe.shape)"
      ],
      "execution_count": 82,
      "outputs": [
        {
          "output_type": "stream",
          "name": "stdout",
          "text": [
            "(60000, 784)\n",
            "(10000, 784)\n",
            "(60000, 10)\n",
            "(10000, 10)\n"
          ]
        }
      ]
    },
    {
      "cell_type": "code",
      "metadata": {
        "id": "9LjpWz0dotJs",
        "colab": {
          "base_uri": "https://localhost:8080/"
        },
        "outputId": "5c4cb7ed-cf7f-44fb-c749-96c4081596e8"
      },
      "source": [
        "print(x_train[0].max(), x_train[0].min())\n",
        "print(y_train_ohe[0])"
      ],
      "execution_count": 83,
      "outputs": [
        {
          "output_type": "stream",
          "name": "stdout",
          "text": [
            "1.0 0.0\n",
            "[0. 0. 0. 0. 0. 1. 0. 0. 0. 0.]\n"
          ]
        }
      ]
    },
    {
      "cell_type": "markdown",
      "metadata": {
        "id": "5GUaa92Y9RhY"
      },
      "source": [
        "#### 하이퍼 파라미터(Hyper Parameter)"
      ]
    },
    {
      "cell_type": "code",
      "metadata": {
        "id": "sk3FXXLi9Th5"
      },
      "source": [
        "epochs = 5\n",
        "lr =0.1\n",
        "batch_size = 100\n",
        "train_size = x_train.shape[0]"
      ],
      "execution_count": 87,
      "outputs": []
    },
    {
      "cell_type": "markdown",
      "metadata": {
        "id": "5lMJ0h8p8iZl"
      },
      "source": [
        "#### 사용되는 함수들(Util Functions)"
      ]
    },
    {
      "cell_type": "code",
      "metadata": {
        "id": "bSlqZ2Xx8hFn"
      },
      "source": [
        "# Sigmoid 함수:\n",
        "# - 신경망에서 자주 사용되는 활성화 함수.\n",
        "# - 입력 x를 0과 1 사이의 값으로 변환.\n",
        "# - 작은 x에서는 0에 가까운 값, 큰 x에서는 1에 가까운 값 출력.\n",
        "def sigmoid(x):\n",
        "  return 1 / (1 + np.exp(-x))\n",
        "\n",
        "# 평균제곱오차 Mean Squared Error (MSE)\n",
        "# - 예측값(pred_y)과 실제값(true_y)의 차이를 제곱한 값을 반환.\n",
        "# - 회귀 문제에서 손실 함수로 자주 사용됨.\n",
        "# - 0.5를 곱하는 이유는 미분 시 계산을 간단하게 하기 위해.\n",
        "def mean_squared_error(pred_y, true_y):\n",
        "  return 0.5 * (np.sum((true_y - pred_y)**2))\n",
        "\n",
        "# 교차 엔트로피 오차:\n",
        "# - 다중 클래스 분류 문제에서 자주 사용되는 손실 함수.\n",
        "# - 예측값(pred_y)과 실제값(true_y) 간의 확률 분포 차이를 계산.\n",
        "# - delta=1e-7: 로그 계산 시 0으로 나누는 오류를 방지.\n",
        "def cross_entropy_error(pred_y, true_y):\n",
        "  if true_y.ndim == 1:\n",
        "    true_y = true_y.reshape(1, -1)\n",
        "    pred_y = pred_y.reshape(1, -1)\n",
        "  delta = 1e-7\n",
        "  return -np.sum(true_y * np.log(pred_y + delta))\n",
        "\n",
        "# 배치 교차 엔트로피 오차:\n",
        "# - 여러 데이터를 한 번에 처리하는 배치 학습용 손실 함수.\n",
        "# - 전체 배치에 대해 평균 교차 엔트로피 값을 계산.\n",
        "# - 배치 크기(batch_size)를 나누어 평균화.\n",
        "def cross_entropy_error_batch(pred_y, true_y):\n",
        "  if true_y.ndim == 1:\n",
        "    true_y = true_y.reshape(1, -1)\n",
        "    pred_y = pred_y.reshape(1, -1)\n",
        "  delta = 1e-7\n",
        "  batch_size = pred_y.shape[0]\n",
        "  return -np.sum(true_y * np.log(pred_y + delta)) / batch_size\n",
        "\n",
        "# 이진 분류용 교차 엔트로피 오차:\n",
        "# - 출력값이 0 또는 1인 이진 분류 문제에 사용.\n",
        "# - 예측값(pred_y)이 두 클래스 확률로 나타나는 경우 활용.\n",
        "def cross_entropy_error_for_bin(pred_y, true_y):\n",
        "  return 0.5 * np.sum((-true_y * np.log(pred_y) - (1 - true_y) * np.log(1 - pred_y)))\n",
        "\n",
        "\n",
        "# Softmax 함수:\n",
        "# - 출력값을 확률 분포로 변환.\n",
        "# - 각 원소의 값이 전체 합(1.0)을 이루는 확률로 변환됨.\n",
        "# - 다중 클래스 분류 문제의 출력층에서 자주 사용.\n",
        "def softmax(a):\n",
        "  exp_a = np.exp(a)\n",
        "  sum_exp_a = np.sum(exp_a)\n",
        "  y = exp_a / sum_exp_a\n",
        "\n",
        "  return y\n",
        "\n",
        "# 1차원 함수의 미분 계산:\n",
        "# - 함수 f에 대해 x의 각 요소에 대한 기울기를 계산.\n",
        "# - 중심 차분 방식을 사용하여 수치 미분 계산 (h = 2 * eps).\n",
        "def differential_1d(f, x):\n",
        "\n",
        "  eps = 1e-5\n",
        "  diff_value = np.zeros_like(x)\n",
        "\n",
        "  try:\n",
        "    len(x)\n",
        "  except TypeError:\n",
        "    x = np.array([x])\n",
        "\n",
        "  for i in range(x.shape[0]):\n",
        "    temp_val = x[i]\n",
        "\n",
        "    x[i] = temp_val + eps\n",
        "    f_h1 = f(x)\n",
        "\n",
        "    x[i] = temp_val - eps\n",
        "    f_h2 = f(x)\n",
        "\n",
        "    diff_value[i] = (f_h1 - f_h2) / (2 * eps)\n",
        "    x[i] = temp_val\n",
        "\n",
        "  return diff_value\n",
        "\n",
        "# 2차원 배열에 대한 미분 계산:\n",
        "# - 각 요소에 대해 기울기를 계산.\n",
        "# - 중심 차분 방식으로 각 요소별 미분 값을 구함.\n",
        "# - 1차원 또는 2차원 배열 입력을 처리.\n",
        "def differential_2d(f, x):\n",
        "    eps = 1e-4  # 작은 값\n",
        "    grad = np.zeros_like(x)\n",
        "\n",
        "    # 1차원 배열인지, 2차원 배열인지 확인\n",
        "    if x.ndim == 1:  # 1차원 배열 처리\n",
        "        for i in range(x.shape[0]):\n",
        "            temp_val = x[i]\n",
        "            x[i] = temp_val + eps\n",
        "            f_h1 = f(x).item()  # 스칼라 값으로 변환\n",
        "            x[i] = temp_val - eps\n",
        "            f_h2 = f(x).item()  # 스칼라 값으로 변환\n",
        "            grad[i] = (f_h1 - f_h2) / (2 * eps)\n",
        "            x[i] = temp_val\n",
        "    elif x.ndim == 2:  # 2차원 배열 처리\n",
        "        for i in range(x.shape[0]):\n",
        "            for j in range(x.shape[1]):\n",
        "                temp_val = x[i, j]\n",
        "                x[i, j] = temp_val + eps\n",
        "                f_h1 = f(x).item()  # 스칼라 값으로 변환\n",
        "                x[i, j] = temp_val - eps\n",
        "                f_h2 = f(x).item()  # 스칼라 값으로 변환\n",
        "                grad[i, j] = (f_h1 - f_h2) / (2 * eps)\n",
        "                x[i, j] = temp_val\n",
        "    else:\n",
        "        raise ValueError(\"Input x must be either 1D or 2D array.\")\n",
        "\n",
        "    return grad\n"
      ],
      "execution_count": 88,
      "outputs": []
    },
    {
      "cell_type": "markdown",
      "metadata": {
        "id": "sSoV9fyj8_u7"
      },
      "source": [
        "#### 2층 신경망으로 구현"
      ]
    },
    {
      "cell_type": "code",
      "metadata": {
        "id": "XBObD5Fw89HI"
      },
      "source": [
        "class MyModel(object):\n",
        "\n",
        "  def __init__(self):\n",
        "\n",
        "    def weight_init(input_nodes, hidden_nodes, output_units):\n",
        "      np.random.seed(777) # 난수 시드를 고정하여 실행 시 동일한 결과 보장\n",
        "\n",
        "      params = {}\n",
        "      # \"입력층\" -> \"은닉층\" 가중치 및 편향 초기화\n",
        "      params['w_1'] = 0.01 * np.random.randn(input_nodes, hidden_nodes)\n",
        "      params['b_1'] = np.zeros(hidden_nodes)\n",
        "      # \"은닉층\" -> \"출력층\" 가중치 및 편향 초기화\n",
        "      params['w_2'] = 0.01 * np.random.randn(hidden_nodes, output_units)\n",
        "      params['b_2'] = np.zeros(output_units)\n",
        "\n",
        "      return params\n",
        "    # 가중치와 편향 초기화\n",
        "    self.params = weight_init(784, 64, 10)# 입력 노드 784 (28x28 이미지), 은닉층 노드 64, 출력 노드 10 (클래스 0~9)\n",
        "\n",
        "  def predict(self, x):\n",
        "    W_1, W_2 = self.params['w_1'], self.params['w_2']\n",
        "    B_1, B_2 = self.params['b_1'], self.params['b_2']\n",
        "    # 입력층 → 은닉층\n",
        "    A1 = np.dot(x, W_1) + B_1 # 선형 변환, 입력 데이터 x와 가중치 W_1를 곱하고 편향 B_1을 더함.\n",
        "    Z1 = sigmoid(A1) # 비선형 활성화 함수 (Sigmoid) 활성화 함수 sigmoid를 통해 비선형성을 추가\n",
        "    # 은닉층 → 출력층\n",
        "    A2 = np.dot(Z1, W_2) + B_2 # 선형 변환 , 은닉층 출력 Z1과 가중치 W_2를 곱하고 편향 B_2를 더함.\n",
        "    pred_y = softmax(A2) # 출력층 활성화 함수 (Softmax) Softmax 함수로 클래스 확률 계산\n",
        "\n",
        "    return pred_y\n",
        "\n",
        "  def loss(self, x, true_y): #  예측값(pred_y)과 실제값(true_y)의 차이를 계산하는 목적\n",
        "    pred_y = self.predict(x) # 예측값 계산\n",
        "    return cross_entropy_error_for_bin(pred_y, true_y) # 이진 교차 엔트로피 오차 계산\n",
        "\n",
        "  def accuracy(self, x, true_y): # 예측값 계산\n",
        "    pred_y = self.predict(x)\n",
        "    y_argmax = np.argmax(pred_y, axis = 1) # 예측값의 가장 높은 확률 클래스\n",
        "    t_argmax = np.argmax(true_y, axis = 1) # 실제값의 정답 클래스\n",
        "\n",
        "    accuracy = np.sum(y_argmax == t_argmax) / float(x.shape[0]) # 정확도 계산\n",
        "\n",
        "    return accuracy\n",
        "\n",
        "  def get_gradient(self, x, t):\n",
        "\n",
        "    def loss_grad(grad):\n",
        "      return self.loss(x, t)\n",
        "\n",
        "    grads = {}\n",
        "    # 각 가중치 및 편향에 대해 손실 함수의 기울기 계산\n",
        "    # 손실 함수의 각 가중치(w_1, w_2)와 편향(b_1, b_2)에 대한 기울기를 계산.\n",
        "    # differential_2d 함수는 각 파라미터의 수치적 미분값을 반환.\n",
        "    grads['w_1'] = differential_2d(loss_grad, self.params['w_1'])\n",
        "    grads['b_1'] = differential_2d(loss_grad, self.params['b_1'])\n",
        "    grads['w_2'] = differential_2d(loss_grad, self.params['w_2'])\n",
        "    grads['b_2'] = differential_2d(loss_grad, self.params['b_2'])\n",
        "\n",
        "    return grads"
      ],
      "execution_count": 89,
      "outputs": []
    },
    {
      "cell_type": "markdown",
      "metadata": {
        "id": "maKNIlK-xJ5k"
      },
      "source": [
        "#### 모델 생성 및 학습\n",
        "- 시간 많이 소요"
      ]
    },
    {
      "cell_type": "code",
      "metadata": {
        "id": "XSEARgNIop8t",
        "colab": {
          "base_uri": "https://localhost:8080/",
          "height": 159,
          "referenced_widgets": [
            "4ae6862f75ba4642ba61db3db2e23033",
            "93df55cb722e4b028da9d27108c600a0",
            "108f7a98fe1a49aca23e17cac0e5cde7",
            "6b833bdf2fb14c1ea4e3620c39753e44",
            "39e57f50918c468394805328bad09ca1",
            "1a537142c5eb436dadff57f1b3bc138a",
            "35ec2a2e9d5446beb8275346ec7de101",
            "1e99f255802a4640aef8d445118c7929",
            "4f0274edbfc44e278579c69cb9e6d3e0",
            "a225415e7fd74cfb8ed73764fd69c3a2",
            "86370f886d8f4aa8904ee8de41f94b71"
          ]
        },
        "outputId": "18798e95-ee8b-4a87-cf9b-c52d31ce87d6"
      },
      "source": [
        "model = MyModel()\n",
        "\n",
        "# 학습 과정에서 손실값(train_loss), 학습 정확도(train_acc), 테스트 정확도(test_acc)를 저장할 리스트.\n",
        "train_loss_list = list()\n",
        "train_acc_list = list()\n",
        "test_acc_list = list()\n",
        "\n",
        "# 한 에포크(epoch) 동안 반복해야 할 횟수 계산.\n",
        "# train_size: 학습 데이터 크기.\n",
        "# batch_size: 배치 크기. 매번 학습할 데이터 개수.\n",
        "# max(): 최소 반복 횟수를 1로 설정.\n",
        "iter_per_epoch = max(train_size/batch_size, 1)\n",
        "\n",
        "start_time = time.time()\n",
        "\n",
        "for i in tqdm(range(epochs)):\n",
        "\n",
        "  batch_idx = np.random.choice(train_size, batch_size, replace=False)\n",
        "  x_batch = x_train[batch_idx] # train_size에서 batch_size만큼 샘플을 랜덤으로 선택 (중복 허용 안 함).\n",
        "  y_batch = y_train_ohe[batch_idx] # 선택된 인덱스를 이용해 학습 데이터와 레이블에서 배치 데이터 생성.\n",
        "\n",
        "  grads = model.get_gradient(x_batch, y_batch) # 배치 데이터(x_batch, y_batch)를 이용해 손실 함수의 기울기 계산.\n",
        "\n",
        "  # 계산된 기울기(grads)를 이용해 경사 하강법으로 모델의 파라미터 업데이트.\n",
        "  # lr: 학습률(learning rate). 업데이트 크기를 조절.\n",
        "  for key in grads.keys():\n",
        "    model.params[key] -= lr * grads[key]\n",
        "\n",
        "  loss = model.loss(x_batch, y_batch)\n",
        "  train_loss_list.append(loss) # 현재 배치의 손실 값을 계산하고, 리스트에 저장.\n",
        "\n",
        "  train_accuracy = model.accuracy(x_train, y_train_ohe) # 학습 데이터 전체와 테스트 데이터 전체에 대해 정확도 계산.\n",
        "  test_accuracy = model.accuracy(x_test, y_test_ohe)\n",
        "  train_acc_list.append(train_accuracy) # 정확도를 리스트에 저장.\n",
        "  test_acc_list.append(test_accuracy)\n",
        "\n",
        "  print(\"Epoch: {}, Cost: {}, Train Accuracy: {}, Test Accuracy: {}\".format(i+1, loss, train_accuracy, test_accuracy))\n",
        "\n",
        "end_time = time.time()\n",
        "print(\"총 학습 소요 시간: {:.3f}s\".format(end_time - start_time))"
      ],
      "execution_count": 90,
      "outputs": [
        {
          "output_type": "display_data",
          "data": {
            "text/plain": [
              "  0%|          | 0/5 [00:00<?, ?it/s]"
            ],
            "application/vnd.jupyter.widget-view+json": {
              "version_major": 2,
              "version_minor": 0,
              "model_id": "4ae6862f75ba4642ba61db3db2e23033"
            }
          },
          "metadata": {}
        },
        {
          "output_type": "stream",
          "name": "stdout",
          "text": [
            "Epoch: 1, Cost: 516.5147652725685, Train Accuracy: 0.09751666666666667, Test Accuracy: 0.0974\n",
            "Epoch: 2, Cost: 353.1229733630522, Train Accuracy: 0.09736666666666667, Test Accuracy: 0.0982\n",
            "Epoch: 3, Cost: 350.61651085167864, Train Accuracy: 0.10415, Test Accuracy: 0.0982\n",
            "Epoch: 4, Cost: 349.1803460418622, Train Accuracy: 0.11178333333333333, Test Accuracy: 0.0982\n",
            "Epoch: 5, Cost: 345.3982282174535, Train Accuracy: 0.10023333333333333, Test Accuracy: 0.0982\n",
            "총 학습 소요 시간: 300.381s\n"
          ]
        }
      ]
    },
    {
      "cell_type": "markdown",
      "metadata": {
        "id": "b7nL8f20x4zl"
      },
      "source": [
        "### 모델의 결과\n",
        "- 모델은 학습이 잘 될 수도, 잘 안될 수도 있음\n",
        "\n",
        "- 만약, 학습이 잘 되지 않았다면,  \n",
        "  학습이 잘 되기 위해서 어떠한 조치를 취해야 하는가?\n",
        "  - 다양한 학습관련 기술이 존재"
      ]
    }
  ]
}